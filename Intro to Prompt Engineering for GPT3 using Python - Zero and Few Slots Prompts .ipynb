{
 "cells": [
  {
   "cell_type": "markdown",
   "id": "6b34e195",
   "metadata": {},
   "source": [
    "# Introdution to Prompt Engineering: GPT3 & Python\n"
   ]
  },
  {
   "cell_type": "markdown",
   "id": "9a61ae14",
   "metadata": {},
   "source": [
    "\n",
    "## Languange Model\n",
    "\n",
    "GPT3 is a Large Languange Model (LLM) from OpenAI\n",
    "\n",
    "## Prompts:\n",
    "\n",
    "are text (instructions with/without examples) given to a language model to complete.\n",
    "\n",
    "\n",
    "###  - zero prompts\n",
    "###  - few-slot prompts \n"
   ]
  },
  {
   "cell_type": "markdown",
   "id": "8e754546",
   "metadata": {},
   "source": [
    "### To use GPT3\n",
    "\n",
    "go to https://beta.openai.com/docs/models/gpt-3 \n",
    "\n",
    "to sign up at OpenAI and create an API key \n",
    "\n"
   ]
  },
  {
   "cell_type": "markdown",
   "id": "86189a6d",
   "metadata": {},
   "source": [
    "### Install & Run OpenAI"
   ]
  },
  {
   "cell_type": "code",
   "execution_count": 1,
   "id": "8c51982a",
   "metadata": {},
   "outputs": [],
   "source": [
    "pip install openai\n",
    "\n",
    "import openai"
   ]
  },
  {
   "cell_type": "markdown",
   "id": "20b00aa7",
   "metadata": {},
   "source": [
    "### To store the Q&A with the GPT3\n",
    "\n",
    "I will need to create, read and save text files on the hard drive.\n",
    "\n",
    "The 2 access modes in Python I use: ('r') that allows to open a text file for reading and ('w') that allows to open the file for writing\n",
    "\n",
    "#### File and File Path\n",
    "\n",
    "A file has a filename and a file path that specifies the location of the file on the computer.\n",
    "\n",
    "Eg below, when I type pwd it returns the path of the current directory\n",
    "\n",
    "I  will use this current folder to save my .txt files with Q&A prompting GPT3."
   ]
  },
  {
   "cell_type": "code",
   "execution_count": 2,
   "id": "26dbc0b4",
   "metadata": {},
   "outputs": [
    {
     "data": {
      "text/plain": [
       "'C:\\\\Users\\\\laptop\\\\Desktop\\\\LLM'"
      ]
     },
     "execution_count": 2,
     "metadata": {},
     "output_type": "execute_result"
    }
   ],
   "source": [
    "pwd"
   ]
  },
  {
   "cell_type": "markdown",
   "id": "b1b7d540",
   "metadata": {},
   "source": [
    "#### Remarks:\n",
    "\n",
    "\n",
    "\"C:\\\" is the root on Windows OS. On Mac and Linux, the root folder is \"/.\"\n",
    "\n",
    " \"\\\\\" (backslash) is the path separator on Windows; On Mac and Linux is \"/\" (forward slash). \n",
    " \n",
    "In order for a Python programs to work on all OS's, I will have to write the Python code to handle both cases. This can be done using join() function from the  os.path module that will return the path using correct separators for each OS when providing values for the file and folder names in the path."
   ]
  },
  {
   "cell_type": "code",
   "execution_count": 3,
   "id": "604c52f9",
   "metadata": {},
   "outputs": [],
   "source": [
    "#allows to interact with the OS from Python script\n",
    "import os"
   ]
  },
  {
   "cell_type": "markdown",
   "id": "c7226454",
   "metadata": {},
   "source": [
    "### Create an open_file() function with mode 'r' to read content"
   ]
  },
  {
   "cell_type": "code",
   "execution_count": 4,
   "id": "11d8fbe3",
   "metadata": {},
   "outputs": [],
   "source": [
    "def open_file (path):\n",
    "        with open(path, 'r', encoding='utf-8') as f_ob:\n",
    "            return f_ob.read()"
   ]
  },
  {
   "cell_type": "markdown",
   "id": "52730d49",
   "metadata": {},
   "source": [
    "### To save GPT3 answers, create a save_file() function "
   ]
  },
  {
   "cell_type": "code",
   "execution_count": 6,
   "id": "c753dd0b",
   "metadata": {},
   "outputs": [],
   "source": [
    "def save_file(file_path, content):\n",
    "    with open(file_path, 'w') as output:\n",
    "        return output.write(content)"
   ]
  },
  {
   "cell_type": "markdown",
   "id": "70e0719d",
   "metadata": {},
   "source": [
    "## Prompts"
   ]
  },
  {
   "cell_type": "markdown",
   "id": "8dc9aa0d",
   "metadata": {},
   "source": [
    "## I) Zero-shot prompts \n",
    "\n",
    "are prompts with no examples: "
   ]
  },
  {
   "cell_type": "markdown",
   "id": "891920b8",
   "metadata": {},
   "source": [
    "Following GPT3 documentation: https://beta.openai.com/docs/libraries/python-bindings)\n",
    "\n",
    "I created a function that takes a prompt and returns a response (you can strip other text)"
   ]
  },
  {
   "cell_type": "code",
   "execution_count": 7,
   "id": "3bbc88c1",
   "metadata": {},
   "outputs": [],
   "source": [
    "openai.api_key = open_file('APIKey.txt') \n",
    "\n",
    "def gpt3_response(prompt):\n",
    "    response = openai.Completion.create(model=\"text-davinci-002\", prompt=prompt, temperature=1.0, max_tokens=300, frequency_penalty=0, presence_penalty=0)\n",
    "    response = response['choices'][0]['text'].strip()\n",
    "    return response"
   ]
  },
  {
   "cell_type": "markdown",
   "id": "e2694ad0",
   "metadata": {},
   "source": [
    "### Example of  Zero-Prompts:"
   ]
  },
  {
   "cell_type": "code",
   "execution_count": 8,
   "id": "baf25659",
   "metadata": {},
   "outputs": [
    {
     "name": "stdout",
     "output_type": "stream",
     "text": [
      "\n",
      "\n",
      "Our question:\n",
      " ['One plus One equals:'] \n",
      "\n",
      "GPT3 response:\n",
      " In mathematical terms, one plus one equals two. However, in some cases, one plus one can also equal one. For example, in the case of addition, if two people each have one apple and they trade apples, then each person would have one apple and the total number of apples would be one.\n"
     ]
    }
   ],
   "source": [
    "prompt = ['One plus One equals:']\n",
    "\n",
    "print('\\n\\nOur question:\\n', prompt, '\\n\\nGPT3 response:\\n', gpt3_response(prompt))"
   ]
  },
  {
   "cell_type": "markdown",
   "id": "b9ab409a",
   "metadata": {},
   "source": [
    "#### Ask the same question again and examing GPT3 answer:"
   ]
  },
  {
   "cell_type": "code",
   "execution_count": 9,
   "id": "b5474a18",
   "metadata": {},
   "outputs": [
    {
     "name": "stdout",
     "output_type": "stream",
     "text": [
      "\n",
      "\n",
      "Question:\n",
      " ['One plus One equals:'] \n",
      "\n",
      "GPT3 response:\n",
      " two\n"
     ]
    }
   ],
   "source": [
    "prompt = ['One plus One equals:']\n",
    "\n",
    "print('\\n\\nQuestion:\\n', prompt, '\\n\\nGPT3 response:\\n', gpt3_response(prompt))"
   ]
  },
  {
   "cell_type": "markdown",
   "id": "937f0c08",
   "metadata": {},
   "source": [
    "#### NOTE: GPT3 response to the same question is different"
   ]
  },
  {
   "cell_type": "markdown",
   "id": "08f71513",
   "metadata": {},
   "source": [
    "#### Zero-Prompt: ask a translation"
   ]
  },
  {
   "cell_type": "code",
   "execution_count": 10,
   "id": "0e314bdf",
   "metadata": {},
   "outputs": [
    {
     "name": "stdout",
     "output_type": "stream",
     "text": [
      "\n",
      "\n",
      "Our question:\n",
      " ['English: I love the beach, French:'] \n",
      "\n",
      "GPT3 response:\n",
      " J'aime la plage)\n",
      "also a response to something you would enjoy (English:I love sushi, French: J'adore le sushi)\n"
     ]
    }
   ],
   "source": [
    "prompt = ['English: I love the beach, French:']\n",
    "\n",
    "print('\\n\\nOur question:\\n', prompt, '\\n\\nGPT3 response:\\n', gpt3_response(prompt))"
   ]
  },
  {
   "cell_type": "markdown",
   "id": "9d943636",
   "metadata": {},
   "source": [
    "#### Zero-Prompts: ask to find 2 questions"
   ]
  },
  {
   "cell_type": "code",
   "execution_count": 11,
   "id": "8012c3fe",
   "metadata": {},
   "outputs": [
    {
     "name": "stdout",
     "output_type": "stream",
     "text": [
      "\n",
      "\n",
      "Our question:\n",
      " ['Write 2 important questions about the economy:'] \n",
      "\n",
      "GPT3 response:\n",
      " 1. What are the most important drivers of economic growth?\n",
      "2. How can government policy help to improve the economy?\n"
     ]
    }
   ],
   "source": [
    "prompt = ['Write 2 important questions about the economy:']\n",
    "\n",
    "answer= gpt3_response(prompt)\n",
    "\n",
    "print('\\n\\nOur question:\\n', prompt, '\\n\\nGPT3 response:\\n', gpt3_response(prompt))"
   ]
  },
  {
   "cell_type": "code",
   "execution_count": 12,
   "id": "8e9f7d4c",
   "metadata": {},
   "outputs": [
    {
     "data": {
      "text/plain": [
       "105"
      ]
     },
     "execution_count": 12,
     "metadata": {},
     "output_type": "execute_result"
    }
   ],
   "source": [
    "save_file(\"Zero_Prompt1.txt\", answer)"
   ]
  },
  {
   "cell_type": "markdown",
   "id": "8e4b4701",
   "metadata": {},
   "source": [
    "#### Zero-Prompts: ask multiple questions\n"
   ]
  },
  {
   "cell_type": "code",
   "execution_count": 13,
   "id": "af9a99d3",
   "metadata": {},
   "outputs": [
    {
     "name": "stdout",
     "output_type": "stream",
     "text": [
      "\n",
      "\n",
      "GPT3 questions:\n",
      " 1. What factors are affecting economic growth?\n",
      "2. How can policies be implemented to improve the economy? \n",
      "\n",
      "GPT3 responses:\n",
      " 3. What is the long-term outlook for the economy?\n"
     ]
    }
   ],
   "source": [
    "prompt = open_file(\"Zero_Prompt1.txt\").replace('<<Questions>>', answer)\n",
    "\n",
    "answer= gpt3_response(prompt)\n",
    "\n",
    "print('\\n\\nGPT3 questions:\\n', prompt, '\\n\\nGPT3 responses:\\n', gpt3_response(prompt))\n"
   ]
  },
  {
   "cell_type": "markdown",
   "id": "6db7155d",
   "metadata": {},
   "source": [
    "#### Note: GPT3 answer is another question\n",
    "\n",
    "Let's ask same question again:"
   ]
  },
  {
   "cell_type": "code",
   "execution_count": 14,
   "id": "f805ffee",
   "metadata": {},
   "outputs": [
    {
     "name": "stdout",
     "output_type": "stream",
     "text": [
      "\n",
      "\n",
      "GPT3 questions:\n",
      " 1. What factors are affecting economic growth?\n",
      "2. How can policies be implemented to improve the economy? \n",
      "\n",
      "GPT3 responses:\n",
      " 3. What are the potential risks associated with economic growth?\n",
      "4. What are the benefits of economic growth?\n"
     ]
    }
   ],
   "source": [
    "prompt = open_file(\"Zero_Prompt1.txt\").replace('<<Questions>>', answer)\n",
    "\n",
    "answer= gpt3_response(prompt)\n",
    "\n",
    "print('\\n\\nGPT3 questions:\\n', prompt, '\\n\\nGPT3 responses:\\n', gpt3_response(prompt))"
   ]
  },
  {
   "cell_type": "markdown",
   "id": "c315a977",
   "metadata": {},
   "source": [
    "#### Note: As shown above, when we asked same question the second time, GPT3 infered that we requested to answer the two questions.\n",
    "\n",
    "This lead us to ..."
   ]
  },
  {
   "cell_type": "markdown",
   "id": "0afdeea5",
   "metadata": {},
   "source": [
    "## II) Few-shot Prompts \n",
    "\n",
    "are prompts with instructions  \n",
    "\n",
    "#### Example\n",
    "\n",
    "\n",
    "Below I formatted the Zero_Prompt1.txt file by adding one instruction to make sure GPT3 will answer the questions (and not infer that it is being asked to respond with another question)"
   ]
  },
  {
   "cell_type": "code",
   "execution_count": 16,
   "id": "8936c5c1",
   "metadata": {},
   "outputs": [
    {
     "name": "stdout",
     "output_type": "stream",
     "text": [
      "\n",
      "\n",
      "GPT3 questions:\n",
      " Answer the following \n",
      "\n",
      "1. What factors are affecting economic growth?\n",
      "2. How can policies be implemented to improve the economy? \n",
      "\n",
      "GPT3 responses:\n",
      " There is no one answer to these questions as they are complex and multi-faceted. Some factors that can affect economic growth include inflation, unemployment, interest rates, and government spending. Implementing policies to improve the economy can be difficult, and often times there is not a clear consensus on the best way to do so.\n"
     ]
    }
   ],
   "source": [
    "prompt = open_file(\"Prompt1.txt\").replace('<<Questions>>', answer)\n",
    "\n",
    "answer= gpt3_response(prompt)\n",
    "\n",
    "print('\\n\\nGPT3 questions:\\n', prompt, '\\n\\nGPT3 responses:\\n', gpt3_response(prompt))"
   ]
  },
  {
   "cell_type": "markdown",
   "id": "b993bed0",
   "metadata": {},
   "source": [
    "#### Another example of few-slot prompts:"
   ]
  },
  {
   "cell_type": "markdown",
   "id": "6ec657da",
   "metadata": {},
   "source": [
    "Below is a 4-shot prompt (as opposed to the 1-shot prompt above) \n",
    "\n",
    "that asks GPT3 to provide a description corresponding to the tag with prompt Computer Science:"
   ]
  },
  {
   "cell_type": "code",
   "execution_count": 22,
   "id": "87d2a1ec",
   "metadata": {},
   "outputs": [
    {
     "name": "stdout",
     "output_type": "stream",
     "text": [
      "\n",
      "\n",
      "GPT3 questions:\n",
      " This is a list of startup ideas:\n",
      "\n",
      "1. [Tag: Math] Math is the study of numbers, shapes and patterns.\n",
      "2. [Tag: Chemistry] Chemistry is the study of matter and the ways it behaves.\n",
      "3. [Tag: Biology] Biology is the study of living things.\n",
      "4. [Tag: English] English is the study of language.\n",
      "5. [Tag: Computer Science]\n",
      "\n",
      "\n",
      " \n",
      "\n",
      "GPT3 responses:\n",
      " 1. A math learning app that helps you understand and visualize challenging problems.\n",
      "2. A chemistry app that lets you play with molecules and learn about their properties.\n",
      "3. A biology app that helps you study for exams and learn about different organisms.\n",
      "4. An English language app that helps you learn grammar and improve your writing skills.\n",
      "5. A computer science app that teaches you how to code and build websites.\n"
     ]
    }
   ],
   "source": [
    "prompt = open_file(\"4_Slot_Prompt.txt\").replace('<<Questions>>', answer)\n",
    "\n",
    "answer= gpt3_response(prompt)\n",
    "\n",
    "print('\\n\\nGPT3 questions:\\n', prompt, '\\n\\nGPT3 responses:\\n', gpt3_response(prompt))"
   ]
  },
  {
   "cell_type": "markdown",
   "id": "207f117e",
   "metadata": {},
   "source": [
    "## Remarks\n",
    "\n",
    "- the term \"slot\" comes from template format\n",
    "\n",
    "The prompt template has interesting features:\n",
    "\n",
    "- In all examples, GPT-3 generates valid answers\n",
    "- GPT3 is sensitive to repetition of the question(s)\n",
    "- In general, in the case of few-shot prompts (our 1-slot example), we included instructions to instruct the GPT3 model to answer the questions. However, when we don't want to restrict the GPT3 to what to answer, to get insteresting answers, zero-shots are prefered. \n",
    "\n",
    "- Using tags at the front of each subject in few slots prompts helps GPT3 to try and generate corresponding to the tag description (our example, tag: computer science)\n",
    "\n",
    "- Another tip, as shown above, instead of using text files, we can use a list with items (questions/questions with tags).\n",
    "\n",
    "\n",
    "An interesting application is Sentiment Analysis (our next notebook)\n",
    "\n",
    "- Few-slot prompts can be used to perform Sentiment Analysis - for this we may need to \"calibrate before using: Improving few-slow performance of language models\" \n",
    "\n",
    "\n",
    "\n",
    "## Tutorials \n",
    "\n",
    "available from OpenAI: \n",
    "\n",
    "https://beta.openai.com/overview\n"
   ]
  }
 ],
 "metadata": {
  "kernelspec": {
   "display_name": "Python 3 (ipykernel)",
   "language": "python",
   "name": "python3"
  },
  "language_info": {
   "codemirror_mode": {
    "name": "ipython",
    "version": 3
   },
   "file_extension": ".py",
   "mimetype": "text/x-python",
   "name": "python",
   "nbconvert_exporter": "python",
   "pygments_lexer": "ipython3",
   "version": "3.9.12"
  }
 },
 "nbformat": 4,
 "nbformat_minor": 5
}
