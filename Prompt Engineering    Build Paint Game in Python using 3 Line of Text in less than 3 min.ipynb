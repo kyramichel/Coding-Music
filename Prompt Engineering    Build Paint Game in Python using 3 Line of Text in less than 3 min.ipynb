{
 "cells": [
  {
   "cell_type": "markdown",
   "id": "86b49db1",
   "metadata": {},
   "source": [
    "# Prompt Engineering - Build Games in Python using only few lines of text \n",
    "\n",
    "## Let's build the classic Paint game with just 3 lines of text"
   ]
  },
  {
   "cell_type": "code",
   "execution_count": null,
   "id": "e2580811",
   "metadata": {},
   "outputs": [],
   "source": [
    "pip install pygame"
   ]
  },
  {
   "cell_type": "code",
   "execution_count": 7,
   "id": "b7d60761",
   "metadata": {},
   "outputs": [],
   "source": [
    "import pygame"
   ]
  },
  {
   "cell_type": "markdown",
   "id": "16c9b708",
   "metadata": {},
   "source": [
    "Go to OpenAI and create an account and generate a Key\n",
    "\n",
    "Click on Playgpround https://beta.openai.com/playground"
   ]
  },
  {
   "cell_type": "markdown",
   "id": "05c509e2",
   "metadata": {},
   "source": [
    "# Build the Paint Game \n",
    "\n",
    "with the following 3 lines of code:\n",
    "\n",
    "\n",
    "Define a Python function which is classic Paint Python game\n",
    "\n",
    "Display playing field using pygame library\n",
    "\n",
    "import pygame"
   ]
  },
  {
   "cell_type": "code",
   "execution_count": 8,
   "id": "e4c18131",
   "metadata": {},
   "outputs": [],
   "source": [
    "def paint_game():\n",
    "    # Initialize pygame \n",
    "    pygame.init() \n",
    "    # set the window size \n",
    "    window_width=500\n",
    "    window_height=500\n",
    "    # Create window of size (window_width, window_height) \n",
    "    screen = pygame.display.set_mode((window_width, window_height)) \n",
    "    # Set window title \n",
    "    pygame.display.set_caption(\"Paint Game\") \n",
    "    # Set background color to white \n",
    "    screen.fill((255, 255, 255)) \n",
    "    # Initialize brush size, color, and brush type \n",
    "    brush_size = 5 \n",
    "    brush_color = (0, 0, 0) \n",
    "    brush_type = 'circle' \n",
    " \n",
    "    # Define a function to draw on the surface object \n",
    "    def draw_on_screen(surface, color, size, pos, type): \n",
    "        # Check the brush type \n",
    "        if (type == 'circle'): \n",
    "            # Draw a circle on screen \n",
    "            pygame.draw.circle(surface, color, pos, size) \n",
    " \n",
    "    # Run until the user asks to quit \n",
    "    running = True\n",
    "    while running: \n",
    "        # Iterate over the list of Event objects \n",
    "        # that was returned by pygame.event.get() method. \n",
    "        for event in pygame.event.get(): \n",
    "            # If user clicks the quit button, stop the loop \n",
    "            if event.type == pygame.QUIT: \n",
    "                running = False\n",
    "            # Check if the user presses mouse \n",
    "            if pygame.mouse.get_pressed()[0]: \n",
    "                # Get mouse position \n",
    "                pos = pygame.mouse.get_pos() \n",
    "                # Draw on the screen \n",
    "                draw_on_screen(screen, brush_color, brush_size, pos, brush_type) \n",
    "        # Update the window \n",
    "        pygame.display.update() \n",
    "    # Unintialize all pygame modules \n",
    "    pygame.quit() "
   ]
  },
  {
   "cell_type": "code",
   "execution_count": 9,
   "id": "575e0bc7",
   "metadata": {},
   "outputs": [],
   "source": [
    "# Call the paint_game function \n",
    "paint_game()"
   ]
  },
  {
   "cell_type": "markdown",
   "id": "524b6db8",
   "metadata": {},
   "source": [
    "## Game is built. Start drawing.\n",
    "\n",
    "a Paint Game window will pop up ->  "
   ]
  },
  {
   "cell_type": "markdown",
   "id": "03ebec1e",
   "metadata": {},
   "source": [
    "### Remark: \n",
    "\n",
    "This Paint Python game weas built in less than 3 min with only 3 lines of text!"
   ]
  },
  {
   "cell_type": "code",
   "execution_count": null,
   "id": "be69465c",
   "metadata": {},
   "outputs": [],
   "source": []
  }
 ],
 "metadata": {
  "kernelspec": {
   "display_name": "Python 3 (ipykernel)",
   "language": "python",
   "name": "python3"
  },
  "language_info": {
   "codemirror_mode": {
    "name": "ipython",
    "version": 3
   },
   "file_extension": ".py",
   "mimetype": "text/x-python",
   "name": "python",
   "nbconvert_exporter": "python",
   "pygments_lexer": "ipython3",
   "version": "3.9.12"
  }
 },
 "nbformat": 4,
 "nbformat_minor": 5
}
